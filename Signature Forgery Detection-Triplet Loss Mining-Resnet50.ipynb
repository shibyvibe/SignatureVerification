{
 "cells": [
  {
   "cell_type": "markdown",
   "metadata": {},
   "source": [
    "<b style=\"color: red;\">TODO </b>\n",
    "1) Add signatures from dataset1 to dataset2 mainly related to background color <br>\n",
    "2) Understand how to setup tensorflow GPU. Currently using Tensorflow CPU\n",
    "\n",
    "<p style=\"color: red;\">\n",
    "Tensor flow install error\n",
    "\n",
    "  Stored in directory: /root/.cache/pip/wheels/62/76/4c/aa25851149f3f6d9785f6c869387ad82b3fd37582fa8147ac6\n",
    "Successfully built wrapt\n",
    "ERROR: catboost 0.24.4 requires plotly, which is not installed.\n",
    "ERROR: tensorflow 1.15.0 has requirement gast==0.2.2, but you'll have gast 0.3.3 which is incompatible.\n",
    "ERROR: tensorflow 1.15.0 has requirement tensorboard<1.16.0,>=1.15.0, but you'll have tensorboard 2.4.1 which is incompatible.\n",
    "ERROR: tensorflow 1.15.0 has requirement tensorflow-estimator==1.15.1, but you'll have tensorflow-estimator 2.4.0 which is incompatible.\n",
    "ERROR: tensorflow-gpu 1.15.0 has requirement gast==0.2.2, but you'll have gast 0.3.3 which is incompatible.\n",
    "ERROR: tensorflow-gpu 1.15.0 has requirement tensorboard<1.16.0,>=1.15.0, but you'll have tensorboard 2.4.1 which is incompatible.\n",
    "ERROR: tensorflow-gpu 1.15.0 has requirement tensorflow-estimator==1.15.1, but you'll have tensorflow-estimator 2.4.0 which is incompatible.\n",
    "ERROR: astroid 2.3.3 has requirement wrapt==1.11.*, but you'll have wrapt 1.12.1 which is incompatible.\n",
    "Installing collected packages: six, absl-py, gast, grpcio, numpy, oauthlib, requests-oauthlib, rsa, cachetools, google-auth, google-auth-oauthlib, tensorboard-plugin-wit, wheel, tensorboard, wrapt, typing-extensions, keras-preprocessing, astunparse, opt-einsum, tensorflow-estimator, flatbuffers, tensorflow-cpu\n",
    "  Attempting uninstall: six\n",
    "\n",
    "</p>"
   ]
  },
  {
   "cell_type": "markdown",
   "metadata": {},
   "source": [
    "<b>Tuning </b><p>\n",
    "layer.trainable = True yields around ~77% accuracy\n",
    "\n",
    "To try\n",
    "1) Increase input shape to higher than 224   ==> imageDimensions = (224,224,3)=77%   (512,224,3)= <br> \n",
    "2) Add one more FC Layer ===> 4096 did not help <br>\n",
    "3) Try Resnet<br>\n",
    "\n",
    "VGG16 and VGG19 - yields similar performance.\n",
    "    \n",
    "</p>\n",
    "\n",
    "Trying retraining all layers instead of using exsisting weights. 78% accuracy!!"
   ]
  },
  {
   "cell_type": "code",
   "execution_count": 1,
   "metadata": {},
   "outputs": [],
   "source": [
    "import matplotlib.pyplot as plt\n",
    "import numpy as np\n",
    "import os\n",
    "import random\n",
    "import tensorflow as tf\n",
    "from pathlib import Path\n",
    "from tensorflow.keras import applications\n",
    "from tensorflow.keras import layers\n",
    "from tensorflow.keras import losses\n",
    "from tensorflow.keras import optimizers\n",
    "from tensorflow.keras import metrics\n",
    "from tensorflow.keras import Model\n",
    "from tensorflow.keras.applications import resnet"
   ]
  },
  {
   "cell_type": "code",
   "execution_count": 2,
   "metadata": {},
   "outputs": [
    {
     "name": "stdout",
     "output_type": "stream",
     "text": [
      "2.4.1\n"
     ]
    }
   ],
   "source": [
    "import tensorflow as tf\n",
    "print(tf.__version__)"
   ]
  },
  {
   "cell_type": "code",
   "execution_count": 3,
   "metadata": {},
   "outputs": [],
   "source": [
    "import pandas as pd\n",
    "import numpy as np"
   ]
  },
  {
   "cell_type": "code",
   "execution_count": null,
   "metadata": {},
   "outputs": [],
   "source": [
    "#imageDimensions = (224,224,3)\n",
    "imageDimensions = (224,224,3)"
   ]
  },
  {
   "cell_type": "markdown",
   "metadata": {},
   "source": [
    "<b>Utility functions</b>"
   ]
  },
  {
   "cell_type": "code",
   "execution_count": null,
   "metadata": {},
   "outputs": [],
   "source": [
    "def preprocess_image(filename):\n",
    "    \"\"\"\n",
    "    Load the specified file as a JPEG image, preprocess it and\n",
    "    resize it to the target shape.\n",
    "    \"\"\"\n",
    "\n",
    "    image_string = tf.io.read_file(filename)\n",
    "    image = tf.image.decode_png(image_string, channels=3)\n",
    "    image = tf.image.convert_image_dtype(image, tf.float32)\n",
    "    image = tf.image.resize(image, imageDimensions[:-1])\n",
    "    return image"
   ]
  },
  {
   "cell_type": "code",
   "execution_count": null,
   "metadata": {},
   "outputs": [],
   "source": [
    "def preprocess_triplets_train( anchor, positive, negative):\n",
    "    \"\"\"\n",
    "    Given the filenames corresponding to the three images, load and\n",
    "    preprocess them.\n",
    "    \"\"\"\n",
    "    print(\">>> Anchor\", anchor)\n",
    "\n",
    "    return (\n",
    "        preprocess_image(anchor),\n",
    "        preprocess_image(positive),\n",
    "        preprocess_image(negative),\n",
    "    )"
   ]
  },
  {
   "cell_type": "code",
   "execution_count": null,
   "metadata": {},
   "outputs": [],
   "source": [
    "def preprocess_triplets(personId, anchor, positive, negative, isGenuine):\n",
    "    \"\"\"\n",
    "    Given the filenames corresponding to the three images, load and\n",
    "    preprocess them.\n",
    "    \"\"\"\n",
    "    print(\">>> Anchor\", anchor)\n",
    "\n",
    "    return (\n",
    "        personId,\n",
    "        preprocess_image(anchor),\n",
    "        preprocess_image(positive),\n",
    "        preprocess_image(negative),\n",
    "        isGenuine\n",
    "    )"
   ]
  },
  {
   "cell_type": "code",
   "execution_count": null,
   "metadata": {},
   "outputs": [],
   "source": [
    "# def triplet_loss(y_true, y_pred):\n",
    "#     alpha = 0.5\n",
    "#     anchor, positive, negative =y_pred[0,0:512], y_pred[0,512:1024], y_pred[0,1024:1536]\n",
    "    \n",
    "#     positive_distance = K.mean(K.square(anchor - positive),axis=-1)\n",
    "#     negative_distance = K.mean(K.square(anchor - negative),axis=-1)\n",
    "#     return K.mean(K.maximum(0.0, positive_distance - negative_distance + alpha))"
   ]
  },
  {
   "cell_type": "code",
   "execution_count": null,
   "metadata": {},
   "outputs": [],
   "source": [
    "# def getImage(basePath, typeOfData, dfRec, imageDimensions):\n",
    "#     img_path = basePath + \"/\" + typeOfData + \"/\" + dfRec[\"relPath\"] + \"/\" + dfRec[\"fileName\"]\n",
    "#     img = cv2.imread(img_path)\n",
    "#     img = cv2.cvtColor(img, cv2.COLOR_BGR2RGB)\n",
    "#     img = cv2.resize(img, (imageDimensions[1],imageDimensions[0]), interpolation=cv2.INTER_CUBIC)\n",
    "#     #img = img/255 - resulted in a drop in accuracy\n",
    "#     #preprocess_input(img)\n",
    "#     return img;"
   ]
  },
  {
   "cell_type": "code",
   "execution_count": null,
   "metadata": {},
   "outputs": [],
   "source": [
    "def visualize(images_dataset):\n",
    "    \"\"\"Visualize a few triplets from the supplied batches.\"\"\"\n",
    "\n",
    "    def showImages(ax, image):\n",
    "        for i in range(3):\n",
    "            ax[i].imshow(image[i])\n",
    "            ax[i].get_xaxis().set_visible(False)\n",
    "            ax[i].get_yaxis().set_visible(False)\n",
    "\n",
    "    rows = len(images_dataset)\n",
    "    images = list(images_dataset.as_numpy_iterator())\n",
    "    fig, axs = plt.subplots(rows,3, sharex=True, sharey=True, figsize=(500,500))\n",
    "    for x in range(rows):\n",
    "         anchor, positive, negative = images[x][0],images[x][1],images[x][2]\n",
    "         showImages(axs[x], (anchor, positive, negative))\n"
   ]
  },
  {
   "cell_type": "code",
   "execution_count": null,
   "metadata": {},
   "outputs": [],
   "source": [
    "# def dataGenerator(df, typeOfData):\n",
    "#     personIds = df[\"personId\"].unique()\n",
    "#     for p in personIds:\n",
    "#         genuine = df[(df.personId==p) & (df.Genuine==1)]\n",
    "#         forg = df[(df.personId==p) & (df.Genuine==0)]\n",
    "#         anchor_img = getImage(basePath, typeOfData, genuine.iloc[0], imageDimensions) # Use first row as anchor\n",
    "#         for g in genuine[1:].index:\n",
    "#             pos_img= getImage(basePath, typeOfData, genuine.loc[g], imageDimensions) \n",
    "#             for f in forg.index:\n",
    "#                 neg_img =  getImage(basePath, typeOfData, forg.loc[f], imageDimensions)\n",
    "#                 #yield(np.array([anchor_img, pos_img, neg_img]), np.array([0]))\n",
    "#                 print (type(anchor_img),type(pos_img), type(neg_img), np.array([0]))\n",
    "#                 print (anchor_img.shape,pos_img.shape, neg_img.shape, np.array([0]))\n",
    "#                 #yield([np.array(anchor_img), np.array(pos_img), np.array(neg_img)], np.array([0]))\n",
    "#                 #yield([np.array(anchor_img), np.array(pos_img), np.array(neg_img)],np.array([0]))\n",
    "#                 yield([anchor_img, pos_img, neg_img], 0)"
   ]
  },
  {
   "cell_type": "markdown",
   "metadata": {},
   "source": [
    "<b> Load training and test data </b>"
   ]
  },
  {
   "cell_type": "code",
   "execution_count": null,
   "metadata": {},
   "outputs": [],
   "source": [
    "basePath = \"/notebooks/capstone/dataset/dataset2/sign_data\"\n",
    "data_train = pd.read_csv(basePath + \"/train/train_clean.csv\")\n",
    "data_train.sort_values(by=\"personId\", inplace=True)\n",
    "print(data_train.head())\n",
    "print(data_train.shape)"
   ]
  },
  {
   "cell_type": "code",
   "execution_count": null,
   "metadata": {},
   "outputs": [],
   "source": [
    "data_test = pd.read_csv(basePath + \"/test/test_clean.csv\")\n",
    "data_test.sort_values(by=\"personId\", inplace=True)\n",
    "print(data_test.head(20))\n",
    "print(data_test.shape)"
   ]
  },
  {
   "cell_type": "markdown",
   "metadata": {},
   "source": [
    "<b>Prepare training data</b>"
   ]
  },
  {
   "cell_type": "code",
   "execution_count": null,
   "metadata": {},
   "outputs": [],
   "source": [
    "def categorizeImages(df, typeOfData):\n",
    "    personIds = df[\"personId\"].unique()\n",
    "    anchor_imgs = []\n",
    "    postive_imgs = []\n",
    "    negative_imgs = []\n",
    "    for p in personIds:\n",
    "        genuine = df[(df.personId==p) & (df.Genuine==1)]\n",
    "        forg = df[(df.personId==p) & (df.Genuine==0)]\n",
    "        anchor_img = basePath+\"/\"+typeOfData+\"/\"+genuine.iloc[0].relPath + \"/\"+genuine.iloc[0].fileName  \n",
    "        for g in genuine[1:].index:\n",
    "            pos_img= basePath+\"/\"+typeOfData+\"/\"+genuine.loc[g].relPath + \"/\"+genuine.loc[g].fileName  \n",
    "            for f in forg.index:\n",
    "                neg_img =  basePath+\"/\"+typeOfData+\"/\"+forg.loc[f].relPath + \"/\"+forg.loc[f].fileName  \n",
    "                anchor_imgs.append(anchor_img)\n",
    "                postive_imgs.append(pos_img)\n",
    "                negative_imgs.append(neg_img)\n",
    "    \n",
    "    return anchor_imgs,postive_imgs,negative_imgs"
   ]
  },
  {
   "cell_type": "code",
   "execution_count": null,
   "metadata": {},
   "outputs": [],
   "source": [
    "#anchor_dataset,positive_dataset,negative_dataset = tf.data.Dataset.from_generator(generator=categorizeImages(data_train, \"train\"))\n",
    "anchor_images,positive_images,negative_images = categorizeImages(data_train, \"train\")"
   ]
  },
  {
   "cell_type": "code",
   "execution_count": null,
   "metadata": {},
   "outputs": [],
   "source": [
    "anchor_dataset = tf.data.Dataset.from_tensor_slices(anchor_images)\n",
    "positive_dataset  = tf.data.Dataset.from_tensor_slices(positive_images)\n",
    "negative_dataset  = tf.data.Dataset.from_tensor_slices(negative_images)\n",
    "dataset = tf.data.Dataset.zip((anchor_dataset, positive_dataset, negative_dataset))\n",
    "dataset = dataset.shuffle(buffer_size=1024)\n",
    "dataset = dataset.map(preprocess_triplets_train)\n"
   ]
  },
  {
   "cell_type": "code",
   "execution_count": null,
   "metadata": {},
   "outputs": [],
   "source": [
    "# Let's now split our dataset in train and validation.\n",
    "image_count = len(anchor_dataset)\n",
    "train_dataset = dataset.take(round(image_count * 0.8))\n",
    "val_dataset = dataset.skip(round(image_count * 0.8))"
   ]
  },
  {
   "cell_type": "code",
   "execution_count": null,
   "metadata": {},
   "outputs": [],
   "source": [
    "#visualize(train_dataset.take(5))"
   ]
  },
  {
   "cell_type": "code",
   "execution_count": null,
   "metadata": {},
   "outputs": [],
   "source": [
    "train_dataset = train_dataset.batch(32, drop_remainder=False)\n",
    "train_dataset = train_dataset.prefetch(8)\n",
    "\n",
    "val_dataset = val_dataset.batch(32, drop_remainder=False)\n",
    "val_dataset = val_dataset.prefetch(8)"
   ]
  },
  {
   "cell_type": "markdown",
   "metadata": {},
   "source": [
    "<b>Prepare Test data set</b>"
   ]
  },
  {
   "cell_type": "code",
   "execution_count": null,
   "metadata": {},
   "outputs": [],
   "source": [
    "#Compare each positive each positive in the set and and each negative against all other positives\n",
    "def categorizeTestImages(df, typeOfData):\n",
    "    personIds = df[\"personId\"].unique()\n",
    "    anchor_imgs = []\n",
    "    postive_imgs = []\n",
    "    toCompare_imgs = []\n",
    "    isGenuine = []\n",
    "    personId = []\n",
    "    for p in personIds:\n",
    "        genuine = df[(df.personId==p) & (df.Genuine==1)]\n",
    "        forg = df[(df.personId==p) & (df.Genuine==0)]\n",
    "        anchor_img = basePath+\"/\"+typeOfData+\"/\"+genuine.iloc[0].relPath + \"/\"+genuine.iloc[0].fileName  \n",
    "        for g in genuine[1:].index:\n",
    "            pos_img= basePath+\"/\"+typeOfData+\"/\"+genuine.loc[g].relPath + \"/\"+genuine.loc[g].fileName  \n",
    "            #Compare this with all forgeries\n",
    "            for f in forg.index:\n",
    "                toCompareImg =  basePath+\"/\"+typeOfData+\"/\"+forg.loc[f].relPath + \"/\"+forg.loc[f].fileName \n",
    "                personId.append(p)\n",
    "                anchor_imgs.append(anchor_img)\n",
    "                postive_imgs.append(pos_img)\n",
    "                toCompare_imgs.append(toCompareImg)\n",
    "                isGenuine.append(False)\n",
    "                \n",
    "            # Compare current postive with all other positives besides the anchor\n",
    "            for f in genuine[1:].index:\n",
    "                toCompareImg =  basePath+\"/\"+typeOfData+\"/\"+genuine.loc[f].relPath + \"/\"+genuine.loc[f].fileName  \n",
    "                if ( pos_img != toCompareImg):\n",
    "                    personId.append(p)\n",
    "                    anchor_imgs.append(anchor_img)\n",
    "                    postive_imgs.append(pos_img)\n",
    "                    toCompare_imgs.append(toCompareImg)\n",
    "                    isGenuine.append(True)    \n",
    "    return personId, anchor_imgs,postive_imgs,toCompare_imgs, isGenuine"
   ]
  },
  {
   "cell_type": "code",
   "execution_count": null,
   "metadata": {},
   "outputs": [],
   "source": [
    "tst_personId, tst_anchor_images,tst_positive_images,tst_toCompare_imgs, tst_isGenuine = categorizeTestImages(data_test, \"test\")"
   ]
  },
  {
   "cell_type": "code",
   "execution_count": null,
   "metadata": {},
   "outputs": [],
   "source": [
    "print(len(tst_personId))\n",
    "print(len(tst_anchor_images))\n",
    "print(len(tst_positive_images))\n",
    "print(len(tst_toCompare_imgs))\n",
    "print(len(tst_isGenuine))"
   ]
  },
  {
   "cell_type": "code",
   "execution_count": null,
   "metadata": {},
   "outputs": [],
   "source": [
    "tst_personId_dataset = tf.data.Dataset.from_tensor_slices(tst_personId)\n",
    "tst_anchor_dataset = tf.data.Dataset.from_tensor_slices(tst_anchor_images)\n",
    "tst_positive_dataset  = tf.data.Dataset.from_tensor_slices(tst_positive_images)\n",
    "tst_toCompare_imgs_dataset  = tf.data.Dataset.from_tensor_slices(tst_toCompare_imgs)\n",
    "tst_isGenuine_dataset  = tf.data.Dataset.from_tensor_slices(tst_isGenuine)\n",
    "\n",
    "tst_dataset = tf.data.Dataset.zip((tst_personId_dataset, tst_anchor_dataset, tst_positive_dataset, tst_toCompare_imgs_dataset, tst_isGenuine_dataset ))\n",
    "##dataset = dataset.shuffle(buffer_size=1024)\n",
    "tst_dataset = tst_dataset.map(preprocess_triplets)\n",
    "len(tst_dataset)"
   ]
  },
  {
   "cell_type": "code",
   "execution_count": null,
   "metadata": {},
   "outputs": [],
   "source": [
    "#visualize(tst_dataset.take(5))\n"
   ]
  },
  {
   "cell_type": "markdown",
   "metadata": {},
   "source": [
    "<b>Prepare Model Architecture</b>\n",
    "Setting up the embedding generator model"
   ]
  },
  {
   "cell_type": "code",
   "execution_count": null,
   "metadata": {
    "jupyter": {
     "source_hidden": true
    }
   },
   "outputs": [],
   "source": [
    "base_cnn = resnet.ResNet50(\n",
    "    weights=\"imagenet\", input_shape=imageDimensions, include_top=False\n",
    ")\n",
    "\n",
    "flatten = layers.Flatten()(base_cnn.output)\n",
    "dense1 = layers.Dense(512, activation=\"relu\")(flatten)\n",
    "dense1 = layers.BatchNormalization()(dense1)\n",
    "dense2 = layers.Dense(256, activation=\"relu\")(dense1)\n",
    "dense2 = layers.BatchNormalization()(dense2)\n",
    "output = layers.Dense(256)(dense2)\n",
    "\n",
    "embedding = Model(base_cnn.input, output, name=\"Embedding\")\n",
    "\n",
    "trainable = False\n",
    "for layer in base_cnn.layers:\n",
    "#     if layer.name == \"conv5_block1_out\":     ##TODO: Why only this layer?\n",
    "#         trainable = True\n",
    "    layer.trainable = trainable"
   ]
  },
  {
   "cell_type": "code",
   "execution_count": null,
   "metadata": {},
   "outputs": [],
   "source": [
    "embedding.summary()"
   ]
  },
  {
   "cell_type": "markdown",
   "metadata": {},
   "source": [
    "<B>Setting up the Siamese Network model</B>"
   ]
  },
  {
   "cell_type": "code",
   "execution_count": null,
   "metadata": {
    "jupyter": {
     "source_hidden": true
    }
   },
   "outputs": [],
   "source": [
    "class DistanceLayer(layers.Layer):\n",
    "    \"\"\"\n",
    "    This layer is responsible for computing the distance between the anchor\n",
    "    embedding and the positive embedding, and the anchor embedding and the\n",
    "    negative embedding.\n",
    "    \"\"\"\n",
    "\n",
    "    def __init__(self, **kwargs):\n",
    "        super().__init__(**kwargs)\n",
    "\n",
    "    def call(self, anchor, positive, negative):\n",
    "        ap_distance = tf.reduce_sum(tf.square(anchor - positive), -1)\n",
    "        an_distance = tf.reduce_sum(tf.square(anchor - negative), -1)\n",
    "        return (ap_distance, an_distance)\n",
    "\n",
    "\n",
    "anchor_input = layers.Input(name=\"anchor\", shape=imageDimensions)\n",
    "positive_input = layers.Input(name=\"positive\", shape=imageDimensions)\n",
    "negative_input = layers.Input(name=\"negative\", shape=imageDimensions)\n",
    "\n",
    "distances = DistanceLayer()(\n",
    "    embedding(resnet.preprocess_input(anchor_input)),   ##TODO : What is pre-process input do here?\n",
    "    embedding(resnet.preprocess_input(positive_input)),\n",
    "    embedding(resnet.preprocess_input(negative_input)),\n",
    ")\n",
    "\n",
    "siamese_network = Model(\n",
    "    inputs=[anchor_input, positive_input, negative_input], outputs=distances  ##TODO: Not clear what Output does here?\n",
    ")"
   ]
  },
  {
   "cell_type": "markdown",
   "metadata": {},
   "source": [
    "<b> Train Model </b>\n",
    "<p>We now need to implement a model with custom training loop so we can compute the triplet loss using the three embeddings produced by the Siamese network.</p>"
   ]
  },
  {
   "cell_type": "code",
   "execution_count": null,
   "metadata": {
    "jupyter": {
     "source_hidden": true
    }
   },
   "outputs": [],
   "source": [
    "class SiameseModel(Model):\n",
    "    \"\"\"The Siamese Network model with a custom training and testing loops.\n",
    "\n",
    "    Computes the triplet loss using the three embeddings produced by the\n",
    "    Siamese Network.\n",
    "\n",
    "    The triplet loss is defined as:\n",
    "       L(A, P, N) = max(‖f(A) - f(P)‖² - ‖f(A) - f(N)‖² + margin, 0)\n",
    "    \"\"\"\n",
    "\n",
    "    def __init__(self, siamese_network, margin=0.5):\n",
    "        super(SiameseModel, self).__init__()\n",
    "        self.siamese_network = siamese_network\n",
    "        self.margin = margin\n",
    "        self.loss_tracker = metrics.Mean(name=\"loss\")\n",
    "\n",
    "    def call(self, inputs):\n",
    "        return self.siamese_network(inputs)\n",
    "\n",
    "    def train_step(self, data):\n",
    "        # GradientTape is a context manager that records every operation that\n",
    "        # you do inside. We are using it here to compute the loss so we can get\n",
    "        # the gradients and apply them using the optimizer specified in\n",
    "        # `compile()`.\n",
    "        with tf.GradientTape() as tape:\n",
    "            loss = self._compute_loss(data)\n",
    "\n",
    "        # Storing the gradients of the loss function with respect to the\n",
    "        # weights/parameters.\n",
    "        gradients = tape.gradient(loss, self.siamese_network.trainable_weights)\n",
    "\n",
    "        # Applying the gradients on the model using the specified optimizer\n",
    "        self.optimizer.apply_gradients(\n",
    "            zip(gradients, self.siamese_network.trainable_weights)\n",
    "        )\n",
    "\n",
    "        # Let's update and return the training loss metric.\n",
    "        self.loss_tracker.update_state(loss)\n",
    "        return {\"loss\": self.loss_tracker.result()}\n",
    "\n",
    "    def test_step(self, data):\n",
    "        loss = self._compute_loss(data)\n",
    "\n",
    "        # Let's update and return the loss metric.\n",
    "        self.loss_tracker.update_state(loss)\n",
    "        return {\"loss\": self.loss_tracker.result()}\n",
    "\n",
    "         \n",
    "    def _compute_loss_sq(self, data):\n",
    "        # The output of the network is a tuple containing the distances\n",
    "        # between the anchor and the positive example, and the anchor and\n",
    "        # the negative example.\n",
    "        ap_distance, an_distance = self.siamese_network(data)\n",
    "\n",
    "        # Computing the Triplet Loss by subtracting both distances and\n",
    "        # making sure we don't get a negative value.\n",
    "        loss = ap_distance - an_distance\n",
    "        loss = tf.maximum(loss + self.margin, 0.0)\n",
    "        return loss\n",
    "    \n",
    "#     def _compute_loss_cos(self, data):\n",
    "#         cosine_similarity = metrics.CosineSimilarity()\n",
    "#         sitive_similarity = cosine_similarity(anchor_embedding, positive_embedding)\n",
    "#         print(\"Positive similarity:\", positive_similarity)\n",
    "#         negative_similarity = cosine_similarity(anchor_embedding, negative_embedding)\n",
    "#         print(\"Negative similarity\", negative_similarity)\n",
    "#         loss = tf.math.squared_difference(positive_similarity, negative_similarity)\n",
    "#         loss = tf.maximum(loss + self.margin, 0.0)\n",
    "#         #tf.math.squared_difference\n",
    "#         return loss\n",
    "\n",
    "    def _compute_loss(self, data):\n",
    "        return self._compute_loss_sq(data)\n",
    "    \n",
    "    @property\n",
    "    def metrics(self):\n",
    "        # We need to list our metrics here so the `reset_states()` can be\n",
    "        # called automatically.\n",
    "        return [self.loss_tracker]"
   ]
  },
  {
   "cell_type": "code",
   "execution_count": null,
   "metadata": {
    "jupyter": {
     "source_hidden": true
    }
   },
   "outputs": [],
   "source": [
    "from keras.callbacks import ModelCheckpoint, LearningRateScheduler, EarlyStopping, ReduceLROnPlateau, TensorBoard\n",
    "earlyStopping = EarlyStopping(monitor='val_loss',\n",
    "                              min_delta=0,\n",
    "                              patience=3,\n",
    "                              verbose=1)\n",
    "\n",
    "early_stop=[earlyStopping]\n",
    "siamese_model = SiameseModel(siamese_network)\n",
    "siamese_model.compile(optimizer=optimizers.Adam(0.0000001))\n",
    "siamese_model.fit(train_dataset, epochs=20, validation_data=val_dataset, callbacks=early_stop)\n",
    "\n",
    "#Tuning\n",
    "# Image dimension=448, margin=0.5 epoch 1, norestraining of weights,Adam=0.0001, loss=2.1\n",
    "# Image dimension=224, margin=0.5 epoch 1, norestraining of weights,Adam=0.0001, loss=0.05\n",
    "# Image dimension=224, margin=0.5 epoch 1, norestraining of weights,Adam=0.0001, lossFn=cos, loss=? \n",
    "# Image dimension=224, margin=10 epoch 1, norestraining of weights,Adam=0.0001, loss=0.5\n",
    "# Image dimension=224, margin=0.5 epoch 1, norestraining of weights, Adam=0.00001 instead of 0.0001 loss=?**  0.000001 - 0.0020 - val_loss: 0.0095\n",
    "# Image dimension=112, margin=0.5 epoch 1, norestraining of weights,Adam=0.0001, loss=0.17"
   ]
  },
  {
   "cell_type": "code",
   "execution_count": null,
   "metadata": {},
   "outputs": [],
   "source": [
    "filename = '/notebooks/capstone/models/embeddings-res32'\n",
    "filename2 = '/notebooks/capstone/models/siamesenetwork-res32'"
   ]
  },
  {
   "cell_type": "code",
   "execution_count": null,
   "metadata": {},
   "outputs": [],
   "source": [
    "# embedding.save(filename)\n",
    "# siamese_network.save(filename2)"
   ]
  },
  {
   "cell_type": "code",
   "execution_count": null,
   "metadata": {},
   "outputs": [],
   "source": [
    "##Load model\n",
    "embedding = tf.keras.models.load_model(filename)"
   ]
  },
  {
   "cell_type": "code",
   "execution_count": null,
   "metadata": {},
   "outputs": [],
   "source": [
    "siamese_network = tf.keras.models.load_model(filename2)"
   ]
  },
  {
   "cell_type": "markdown",
   "metadata": {},
   "source": [
    "<b>Testing</b>"
   ]
  },
  {
   "cell_type": "markdown",
   "metadata": {},
   "source": [
    "Inspecting what the network has learned\n",
    "At this point, we can check how the network learned to separate the embeddings depending on whether they belong to similar images.\n",
    "\n",
    "We can use cosine similarity to measure the similarity between embeddings.\n",
    "\n",
    "Let's pick a sample from the dataset to check the similarity between the embeddings generated for each image."
   ]
  },
  {
   "cell_type": "markdown",
   "metadata": {},
   "source": [
    "Finally, we can compute the cosine similarity between the anchor and positive images and compare it with the similarity between the anchor and the negative images.\n",
    "\n",
    "We should expect the similarity between the anchor and positive images to be larger than the similarity between the anchor and the negative images."
   ]
  },
  {
   "cell_type": "code",
   "execution_count": null,
   "metadata": {},
   "outputs": [],
   "source": [
    "tst_dataset = tst_dataset.batch(1, drop_remainder=False)"
   ]
  },
  {
   "cell_type": "code",
   "execution_count": null,
   "metadata": {},
   "outputs": [],
   "source": [
    "sample = next(iter(tst_dataset))\n",
    "personId, anchor, positive, toCompare, isGenuine = sample\n",
    "print(f\"PersonId: %s anchor: %d positive: %d toCompare: %d isGenuine %s\" % (personId.numpy(), len(anchor), len(positive), len(toCompare),isGenuine.numpy()))\n"
   ]
  },
  {
   "cell_type": "code",
   "execution_count": null,
   "metadata": {},
   "outputs": [],
   "source": [
    "anchor_embedding, positive_embedding, negative_embedding = (\n",
    "    embedding(resnet.preprocess_input(anchor)),\n",
    "    embedding(resnet.preprocess_input(positive)),\n",
    "    embedding(resnet.preprocess_input(toCompare)),\n",
    ")"
   ]
  },
  {
   "cell_type": "code",
   "execution_count": null,
   "metadata": {},
   "outputs": [],
   "source": [
    "print(f\"PersonId: %d anchor: %d positive: %d toCompare: %d isGenuine %d\" % (len(personId), len(anchor), len(positive), len(toCompare),len(isGenuine)))"
   ]
  },
  {
   "cell_type": "markdown",
   "metadata": {},
   "source": [
    "Finally, we can compute the cosine similarity between the anchor and positive images and compare it with the similarity between the anchor and the negative images.\n",
    "\n",
    "We should expect the similarity between the anchor and positive images to be larger than the similarity between the anchor and the negative images."
   ]
  },
  {
   "cell_type": "code",
   "execution_count": null,
   "metadata": {},
   "outputs": [],
   "source": [
    "def compareEmbeds(personId, anchor_embedding, positive_embedding, negative_embedding, isGenuine):\n",
    "    cosine_similarity = metrics.CosineSimilarity()\n",
    "\n",
    "    positive_similarity = cosine_similarity(anchor_embedding, positive_embedding)\n",
    "    #print(\"Positive similarity:\", positive_similarity.numpy())\n",
    "\n",
    "    negative_similarity = cosine_similarity(anchor_embedding, negative_embedding)\n",
    "    #print(\"Negative similarity\", negative_similarity.numpy())\n",
    "    return (personId.numpy(), positive_similarity.numpy(), negative_similarity.numpy(), (positive_similarity.numpy() - negative_similarity.numpy()), isGenuine.numpy())"
   ]
  },
  {
   "cell_type": "code",
   "execution_count": null,
   "metadata": {},
   "outputs": [],
   "source": [
    "print (compareEmbeds(personId,anchor_embedding, positive_embedding, negative_embedding, isGenuine))"
   ]
  },
  {
   "cell_type": "code",
   "execution_count": null,
   "metadata": {},
   "outputs": [],
   "source": [
    "def getEmbeddings(row):\n",
    "    personId, anchor, positive, toCcompare, isGenuine = row\n",
    "    return (\n",
    "        personId.numpy(), \n",
    "        embedding(resnet.preprocess_input(anchor)),\n",
    "        embedding(resnet.preprocess_input(positive)),\n",
    "        embedding(resnet.preprocess_input(toCcompare)),\n",
    "        isGenuine.numpy()\n",
    "    )"
   ]
  },
  {
   "cell_type": "code",
   "execution_count": null,
   "metadata": {},
   "outputs": [],
   "source": [
    "## Save the embeddings\n",
    "tst_embedding_data = [getEmbeddings(row) for row in iter(tst_dataset)]\n",
    "tst_data_embeddings_df = pd.DataFrame(columns=[\"personId\", \"anchor_embedding\", \"positive_embedding\",\"negative_embedding\",\"isGenuine\"], data=tst_embedding_data)\n",
    "tst_data_embeddings_df.head(1)"
   ]
  },
  {
   "cell_type": "code",
   "execution_count": 6,
   "metadata": {},
   "outputs": [],
   "source": [
    "import pickle\n",
    "pFile_embeddings = \"/notebooks/capstone/results_embeddings.pickle\""
   ]
  },
  {
   "cell_type": "code",
   "execution_count": null,
   "metadata": {},
   "outputs": [],
   "source": [
    "# with open(pFile_embeddings, 'wb') as file:\n",
    "#     pickle.dump(tst_data_embeddings_df, file)"
   ]
  },
  {
   "cell_type": "code",
   "execution_count": 7,
   "metadata": {},
   "outputs": [
    {
     "data": {
      "text/plain": [
       "(5038, 5)"
      ]
     },
     "execution_count": 7,
     "metadata": {},
     "output_type": "execute_result"
    }
   ],
   "source": [
    "with open(pFile_embeddings, 'rb') as file:\n",
    "    df = pickle.load(file)\n",
    "df.shape"
   ]
  },
  {
   "cell_type": "code",
   "execution_count": 8,
   "metadata": {},
   "outputs": [
    {
     "data": {
      "text/plain": [
       "Index(['personId', 'anchor_embedding', 'positive_embedding',\n",
       "       'negative_embedding', 'isGenuine'],\n",
       "      dtype='object')"
      ]
     },
     "execution_count": 8,
     "metadata": {},
     "output_type": "execute_result"
    }
   ],
   "source": [
    "df.columns"
   ]
  },
  {
   "cell_type": "markdown",
   "metadata": {},
   "source": [
    "<b>Approach 1</b>: Compare the relative distance of positive and negative related to Anchor"
   ]
  },
  {
   "cell_type": "code",
   "execution_count": 13,
   "metadata": {},
   "outputs": [],
   "source": [
    "def compareEmbeds(personId, anchor_embedding, positive_embedding, negative_embedding, isGenuine):\n",
    "    cosine_similarity = metrics.CosineSimilarity()\n",
    "\n",
    "    positive_similarity = cosine_similarity(anchor_embedding, positive_embedding)\n",
    "    #print(\"Positive similarity:\", positive_similarity.numpy())\n",
    "\n",
    "    negative_similarity = cosine_similarity(anchor_embedding, negative_embedding)\n",
    "    #print(\"Negative similarity\", negative_similarity.numpy())\n",
    "    return (positive_similarity.numpy(), negative_similarity.numpy(), (positive_similarity.numpy() - negative_similarity.numpy()))"
   ]
  },
  {
   "cell_type": "code",
   "execution_count": 14,
   "metadata": {},
   "outputs": [
    {
     "data": {
      "text/html": [
       "<div>\n",
       "<style scoped>\n",
       "    .dataframe tbody tr th:only-of-type {\n",
       "        vertical-align: middle;\n",
       "    }\n",
       "\n",
       "    .dataframe tbody tr th {\n",
       "        vertical-align: top;\n",
       "    }\n",
       "\n",
       "    .dataframe thead th {\n",
       "        text-align: right;\n",
       "    }\n",
       "</style>\n",
       "<table border=\"1\" class=\"dataframe\">\n",
       "  <thead>\n",
       "    <tr style=\"text-align: right;\">\n",
       "      <th></th>\n",
       "      <th>0</th>\n",
       "      <th>1</th>\n",
       "      <th>2</th>\n",
       "    </tr>\n",
       "  </thead>\n",
       "  <tbody>\n",
       "    <tr>\n",
       "      <th>0</th>\n",
       "      <td>0.992328</td>\n",
       "      <td>0.970792</td>\n",
       "      <td>0.021536</td>\n",
       "    </tr>\n",
       "    <tr>\n",
       "      <th>1</th>\n",
       "      <td>0.992328</td>\n",
       "      <td>0.990692</td>\n",
       "      <td>0.001636</td>\n",
       "    </tr>\n",
       "    <tr>\n",
       "      <th>2</th>\n",
       "      <td>0.992328</td>\n",
       "      <td>0.978380</td>\n",
       "      <td>0.013948</td>\n",
       "    </tr>\n",
       "    <tr>\n",
       "      <th>3</th>\n",
       "      <td>0.992328</td>\n",
       "      <td>0.972754</td>\n",
       "      <td>0.019574</td>\n",
       "    </tr>\n",
       "    <tr>\n",
       "      <th>4</th>\n",
       "      <td>0.992328</td>\n",
       "      <td>0.970110</td>\n",
       "      <td>0.022218</td>\n",
       "    </tr>\n",
       "    <tr>\n",
       "      <th>...</th>\n",
       "      <td>...</td>\n",
       "      <td>...</td>\n",
       "      <td>...</td>\n",
       "    </tr>\n",
       "    <tr>\n",
       "      <th>5033</th>\n",
       "      <td>0.996557</td>\n",
       "      <td>0.994285</td>\n",
       "      <td>0.002272</td>\n",
       "    </tr>\n",
       "    <tr>\n",
       "      <th>5034</th>\n",
       "      <td>0.996557</td>\n",
       "      <td>0.997044</td>\n",
       "      <td>-0.000487</td>\n",
       "    </tr>\n",
       "    <tr>\n",
       "      <th>5035</th>\n",
       "      <td>0.996557</td>\n",
       "      <td>0.996651</td>\n",
       "      <td>-0.000094</td>\n",
       "    </tr>\n",
       "    <tr>\n",
       "      <th>5036</th>\n",
       "      <td>0.996557</td>\n",
       "      <td>0.996309</td>\n",
       "      <td>0.000248</td>\n",
       "    </tr>\n",
       "    <tr>\n",
       "      <th>5037</th>\n",
       "      <td>0.996557</td>\n",
       "      <td>0.996949</td>\n",
       "      <td>-0.000392</td>\n",
       "    </tr>\n",
       "  </tbody>\n",
       "</table>\n",
       "<p>5038 rows × 3 columns</p>\n",
       "</div>"
      ],
      "text/plain": [
       "             0         1         2\n",
       "0     0.992328  0.970792  0.021536\n",
       "1     0.992328  0.990692  0.001636\n",
       "2     0.992328  0.978380  0.013948\n",
       "3     0.992328  0.972754  0.019574\n",
       "4     0.992328  0.970110  0.022218\n",
       "...        ...       ...       ...\n",
       "5033  0.996557  0.994285  0.002272\n",
       "5034  0.996557  0.997044 -0.000487\n",
       "5035  0.996557  0.996651 -0.000094\n",
       "5036  0.996557  0.996309  0.000248\n",
       "5037  0.996557  0.996949 -0.000392\n",
       "\n",
       "[5038 rows x 3 columns]"
      ]
     },
     "execution_count": 14,
     "metadata": {},
     "output_type": "execute_result"
    }
   ],
   "source": [
    "df2 = df.apply(lambda row: compareEmbeds(row.personId, row.anchor_embedding, row.positive_embedding, row.negative_embedding, row.isGenuine), axis=1,  result_type='expand')\n",
    "df2.columns = [\"Pos\", \"Neg\", \"Diff\"]\n",
    "df2.head(3)"
   ]
  },
  {
   "cell_type": "code",
   "execution_count": 30,
   "metadata": {},
   "outputs": [
    {
     "data": {
      "text/html": [
       "<div>\n",
       "<style scoped>\n",
       "    .dataframe tbody tr th:only-of-type {\n",
       "        vertical-align: middle;\n",
       "    }\n",
       "\n",
       "    .dataframe tbody tr th {\n",
       "        vertical-align: top;\n",
       "    }\n",
       "\n",
       "    .dataframe thead th {\n",
       "        text-align: right;\n",
       "    }\n",
       "</style>\n",
       "<table border=\"1\" class=\"dataframe\">\n",
       "  <thead>\n",
       "    <tr style=\"text-align: right;\">\n",
       "      <th></th>\n",
       "      <th>personId</th>\n",
       "      <th>anchor_embedding</th>\n",
       "      <th>positive_embedding</th>\n",
       "      <th>negative_embedding</th>\n",
       "      <th>isGenuine</th>\n",
       "      <th>Pos</th>\n",
       "      <th>Neg</th>\n",
       "      <th>Diff</th>\n",
       "    </tr>\n",
       "  </thead>\n",
       "  <tbody>\n",
       "    <tr>\n",
       "      <th>0</th>\n",
       "      <td>49</td>\n",
       "      <td>((tf.Tensor(0.48840958, shape=(), dtype=float3...</td>\n",
       "      <td>((tf.Tensor(0.5204592, shape=(), dtype=float32...</td>\n",
       "      <td>((tf.Tensor(0.8645718, shape=(), dtype=float32...</td>\n",
       "      <td>False</td>\n",
       "      <td>0.992328</td>\n",
       "      <td>0.970792</td>\n",
       "      <td>0.021536</td>\n",
       "    </tr>\n",
       "    <tr>\n",
       "      <th>1</th>\n",
       "      <td>49</td>\n",
       "      <td>((tf.Tensor(0.48840958, shape=(), dtype=float3...</td>\n",
       "      <td>((tf.Tensor(0.5204592, shape=(), dtype=float32...</td>\n",
       "      <td>((tf.Tensor(0.39470863, shape=(), dtype=float3...</td>\n",
       "      <td>False</td>\n",
       "      <td>0.992328</td>\n",
       "      <td>0.990692</td>\n",
       "      <td>0.001636</td>\n",
       "    </tr>\n",
       "    <tr>\n",
       "      <th>2</th>\n",
       "      <td>49</td>\n",
       "      <td>((tf.Tensor(0.48840958, shape=(), dtype=float3...</td>\n",
       "      <td>((tf.Tensor(0.5204592, shape=(), dtype=float32...</td>\n",
       "      <td>((tf.Tensor(0.36604935, shape=(), dtype=float3...</td>\n",
       "      <td>False</td>\n",
       "      <td>0.992328</td>\n",
       "      <td>0.978380</td>\n",
       "      <td>0.013948</td>\n",
       "    </tr>\n",
       "  </tbody>\n",
       "</table>\n",
       "</div>"
      ],
      "text/plain": [
       "   personId                                   anchor_embedding  \\\n",
       "0        49  ((tf.Tensor(0.48840958, shape=(), dtype=float3...   \n",
       "1        49  ((tf.Tensor(0.48840958, shape=(), dtype=float3...   \n",
       "2        49  ((tf.Tensor(0.48840958, shape=(), dtype=float3...   \n",
       "\n",
       "                                  positive_embedding  \\\n",
       "0  ((tf.Tensor(0.5204592, shape=(), dtype=float32...   \n",
       "1  ((tf.Tensor(0.5204592, shape=(), dtype=float32...   \n",
       "2  ((tf.Tensor(0.5204592, shape=(), dtype=float32...   \n",
       "\n",
       "                                  negative_embedding  isGenuine       Pos  \\\n",
       "0  ((tf.Tensor(0.8645718, shape=(), dtype=float32...      False  0.992328   \n",
       "1  ((tf.Tensor(0.39470863, shape=(), dtype=float3...      False  0.992328   \n",
       "2  ((tf.Tensor(0.36604935, shape=(), dtype=float3...      False  0.992328   \n",
       "\n",
       "        Neg      Diff  \n",
       "0  0.970792  0.021536  \n",
       "1  0.990692  0.001636  \n",
       "2  0.978380  0.013948  "
      ]
     },
     "execution_count": 30,
     "metadata": {},
     "output_type": "execute_result"
    }
   ],
   "source": [
    "df[[\"Pos\", \"Neg\", \"Diff\"]]=df2[[\"Pos\", \"Neg\", \"Diff\"]]\n",
    "df[\"personId\"]=df[\"personId\"].apply(lambda x: x[0])\n",
    "df[\"isGenuine\"]=df[\"isGenuine\"].apply(lambda x: x[0])\n",
    "df.head(3)"
   ]
  },
  {
   "cell_type": "code",
   "execution_count": 31,
   "metadata": {},
   "outputs": [],
   "source": [
    "pFile = \"/notebooks/capstone/results_approach1.pickle\""
   ]
  },
  {
   "cell_type": "code",
   "execution_count": 32,
   "metadata": {},
   "outputs": [],
   "source": [
    "# with open(pFile, 'wb') as file:\n",
    "#      pickle.dump(df, file)"
   ]
  },
  {
   "cell_type": "code",
   "execution_count": 34,
   "metadata": {},
   "outputs": [
    {
     "data": {
      "text/html": [
       "<div>\n",
       "<style scoped>\n",
       "    .dataframe tbody tr th:only-of-type {\n",
       "        vertical-align: middle;\n",
       "    }\n",
       "\n",
       "    .dataframe tbody tr th {\n",
       "        vertical-align: top;\n",
       "    }\n",
       "\n",
       "    .dataframe thead th {\n",
       "        text-align: right;\n",
       "    }\n",
       "</style>\n",
       "<table border=\"1\" class=\"dataframe\">\n",
       "  <thead>\n",
       "    <tr style=\"text-align: right;\">\n",
       "      <th></th>\n",
       "      <th>personId</th>\n",
       "      <th>anchor_embedding</th>\n",
       "      <th>positive_embedding</th>\n",
       "      <th>negative_embedding</th>\n",
       "      <th>isGenuine</th>\n",
       "      <th>Pos</th>\n",
       "      <th>Neg</th>\n",
       "      <th>Diff</th>\n",
       "    </tr>\n",
       "  </thead>\n",
       "  <tbody>\n",
       "    <tr>\n",
       "      <th>0</th>\n",
       "      <td>49</td>\n",
       "      <td>((tf.Tensor(0.48840958, shape=(), dtype=float3...</td>\n",
       "      <td>((tf.Tensor(0.5204592, shape=(), dtype=float32...</td>\n",
       "      <td>((tf.Tensor(0.8645718, shape=(), dtype=float32...</td>\n",
       "      <td>False</td>\n",
       "      <td>0.992328</td>\n",
       "      <td>0.970792</td>\n",
       "      <td>0.021536</td>\n",
       "    </tr>\n",
       "    <tr>\n",
       "      <th>1</th>\n",
       "      <td>49</td>\n",
       "      <td>((tf.Tensor(0.48840958, shape=(), dtype=float3...</td>\n",
       "      <td>((tf.Tensor(0.5204592, shape=(), dtype=float32...</td>\n",
       "      <td>((tf.Tensor(0.39470863, shape=(), dtype=float3...</td>\n",
       "      <td>False</td>\n",
       "      <td>0.992328</td>\n",
       "      <td>0.990692</td>\n",
       "      <td>0.001636</td>\n",
       "    </tr>\n",
       "    <tr>\n",
       "      <th>2</th>\n",
       "      <td>49</td>\n",
       "      <td>((tf.Tensor(0.48840958, shape=(), dtype=float3...</td>\n",
       "      <td>((tf.Tensor(0.5204592, shape=(), dtype=float32...</td>\n",
       "      <td>((tf.Tensor(0.36604935, shape=(), dtype=float3...</td>\n",
       "      <td>False</td>\n",
       "      <td>0.992328</td>\n",
       "      <td>0.978380</td>\n",
       "      <td>0.013948</td>\n",
       "    </tr>\n",
       "    <tr>\n",
       "      <th>3</th>\n",
       "      <td>49</td>\n",
       "      <td>((tf.Tensor(0.48840958, shape=(), dtype=float3...</td>\n",
       "      <td>((tf.Tensor(0.5204592, shape=(), dtype=float32...</td>\n",
       "      <td>((tf.Tensor(0.72039074, shape=(), dtype=float3...</td>\n",
       "      <td>False</td>\n",
       "      <td>0.992328</td>\n",
       "      <td>0.972754</td>\n",
       "      <td>0.019574</td>\n",
       "    </tr>\n",
       "    <tr>\n",
       "      <th>4</th>\n",
       "      <td>49</td>\n",
       "      <td>((tf.Tensor(0.48840958, shape=(), dtype=float3...</td>\n",
       "      <td>((tf.Tensor(0.5204592, shape=(), dtype=float32...</td>\n",
       "      <td>((tf.Tensor(0.6860671, shape=(), dtype=float32...</td>\n",
       "      <td>False</td>\n",
       "      <td>0.992328</td>\n",
       "      <td>0.970110</td>\n",
       "      <td>0.022218</td>\n",
       "    </tr>\n",
       "  </tbody>\n",
       "</table>\n",
       "</div>"
      ],
      "text/plain": [
       "   personId                                   anchor_embedding  \\\n",
       "0        49  ((tf.Tensor(0.48840958, shape=(), dtype=float3...   \n",
       "1        49  ((tf.Tensor(0.48840958, shape=(), dtype=float3...   \n",
       "2        49  ((tf.Tensor(0.48840958, shape=(), dtype=float3...   \n",
       "3        49  ((tf.Tensor(0.48840958, shape=(), dtype=float3...   \n",
       "4        49  ((tf.Tensor(0.48840958, shape=(), dtype=float3...   \n",
       "\n",
       "                                  positive_embedding  \\\n",
       "0  ((tf.Tensor(0.5204592, shape=(), dtype=float32...   \n",
       "1  ((tf.Tensor(0.5204592, shape=(), dtype=float32...   \n",
       "2  ((tf.Tensor(0.5204592, shape=(), dtype=float32...   \n",
       "3  ((tf.Tensor(0.5204592, shape=(), dtype=float32...   \n",
       "4  ((tf.Tensor(0.5204592, shape=(), dtype=float32...   \n",
       "\n",
       "                                  negative_embedding  isGenuine       Pos  \\\n",
       "0  ((tf.Tensor(0.8645718, shape=(), dtype=float32...      False  0.992328   \n",
       "1  ((tf.Tensor(0.39470863, shape=(), dtype=float3...      False  0.992328   \n",
       "2  ((tf.Tensor(0.36604935, shape=(), dtype=float3...      False  0.992328   \n",
       "3  ((tf.Tensor(0.72039074, shape=(), dtype=float3...      False  0.992328   \n",
       "4  ((tf.Tensor(0.6860671, shape=(), dtype=float32...      False  0.992328   \n",
       "\n",
       "        Neg      Diff  \n",
       "0  0.970792  0.021536  \n",
       "1  0.990692  0.001636  \n",
       "2  0.978380  0.013948  \n",
       "3  0.972754  0.019574  \n",
       "4  0.970110  0.022218  "
      ]
     },
     "execution_count": 34,
     "metadata": {},
     "output_type": "execute_result"
    }
   ],
   "source": [
    "with open(pFile, 'rb') as file:\n",
    "     df = pickle.load(file)\n",
    "\n",
    "df.shape\n",
    "df.head()"
   ]
  },
  {
   "cell_type": "code",
   "execution_count": 35,
   "metadata": {},
   "outputs": [
    {
     "data": {
      "text/html": [
       "<div>\n",
       "<style scoped>\n",
       "    .dataframe tbody tr th:only-of-type {\n",
       "        vertical-align: middle;\n",
       "    }\n",
       "\n",
       "    .dataframe tbody tr th {\n",
       "        vertical-align: top;\n",
       "    }\n",
       "\n",
       "    .dataframe thead th {\n",
       "        text-align: right;\n",
       "    }\n",
       "</style>\n",
       "<table border=\"1\" class=\"dataframe\">\n",
       "  <thead>\n",
       "    <tr style=\"text-align: right;\">\n",
       "      <th></th>\n",
       "      <th>personId</th>\n",
       "      <th>anchor_embedding</th>\n",
       "      <th>positive_embedding</th>\n",
       "      <th>negative_embedding</th>\n",
       "      <th>isGenuine</th>\n",
       "      <th>Pos</th>\n",
       "      <th>Neg</th>\n",
       "      <th>Diff</th>\n",
       "    </tr>\n",
       "  </thead>\n",
       "  <tbody>\n",
       "    <tr>\n",
       "      <th>0</th>\n",
       "      <td>49</td>\n",
       "      <td>((tf.Tensor(0.48840958, shape=(), dtype=float3...</td>\n",
       "      <td>((tf.Tensor(0.5204592, shape=(), dtype=float32...</td>\n",
       "      <td>((tf.Tensor(0.8645718, shape=(), dtype=float32...</td>\n",
       "      <td>0</td>\n",
       "      <td>0.992328</td>\n",
       "      <td>0.970792</td>\n",
       "      <td>0.021536</td>\n",
       "    </tr>\n",
       "    <tr>\n",
       "      <th>1</th>\n",
       "      <td>49</td>\n",
       "      <td>((tf.Tensor(0.48840958, shape=(), dtype=float3...</td>\n",
       "      <td>((tf.Tensor(0.5204592, shape=(), dtype=float32...</td>\n",
       "      <td>((tf.Tensor(0.39470863, shape=(), dtype=float3...</td>\n",
       "      <td>0</td>\n",
       "      <td>0.992328</td>\n",
       "      <td>0.990692</td>\n",
       "      <td>0.001636</td>\n",
       "    </tr>\n",
       "    <tr>\n",
       "      <th>2</th>\n",
       "      <td>49</td>\n",
       "      <td>((tf.Tensor(0.48840958, shape=(), dtype=float3...</td>\n",
       "      <td>((tf.Tensor(0.5204592, shape=(), dtype=float32...</td>\n",
       "      <td>((tf.Tensor(0.36604935, shape=(), dtype=float3...</td>\n",
       "      <td>0</td>\n",
       "      <td>0.992328</td>\n",
       "      <td>0.978380</td>\n",
       "      <td>0.013948</td>\n",
       "    </tr>\n",
       "    <tr>\n",
       "      <th>3</th>\n",
       "      <td>49</td>\n",
       "      <td>((tf.Tensor(0.48840958, shape=(), dtype=float3...</td>\n",
       "      <td>((tf.Tensor(0.5204592, shape=(), dtype=float32...</td>\n",
       "      <td>((tf.Tensor(0.72039074, shape=(), dtype=float3...</td>\n",
       "      <td>0</td>\n",
       "      <td>0.992328</td>\n",
       "      <td>0.972754</td>\n",
       "      <td>0.019574</td>\n",
       "    </tr>\n",
       "    <tr>\n",
       "      <th>4</th>\n",
       "      <td>49</td>\n",
       "      <td>((tf.Tensor(0.48840958, shape=(), dtype=float3...</td>\n",
       "      <td>((tf.Tensor(0.5204592, shape=(), dtype=float32...</td>\n",
       "      <td>((tf.Tensor(0.6860671, shape=(), dtype=float32...</td>\n",
       "      <td>0</td>\n",
       "      <td>0.992328</td>\n",
       "      <td>0.970110</td>\n",
       "      <td>0.022218</td>\n",
       "    </tr>\n",
       "  </tbody>\n",
       "</table>\n",
       "</div>"
      ],
      "text/plain": [
       "   personId                                   anchor_embedding  \\\n",
       "0        49  ((tf.Tensor(0.48840958, shape=(), dtype=float3...   \n",
       "1        49  ((tf.Tensor(0.48840958, shape=(), dtype=float3...   \n",
       "2        49  ((tf.Tensor(0.48840958, shape=(), dtype=float3...   \n",
       "3        49  ((tf.Tensor(0.48840958, shape=(), dtype=float3...   \n",
       "4        49  ((tf.Tensor(0.48840958, shape=(), dtype=float3...   \n",
       "\n",
       "                                  positive_embedding  \\\n",
       "0  ((tf.Tensor(0.5204592, shape=(), dtype=float32...   \n",
       "1  ((tf.Tensor(0.5204592, shape=(), dtype=float32...   \n",
       "2  ((tf.Tensor(0.5204592, shape=(), dtype=float32...   \n",
       "3  ((tf.Tensor(0.5204592, shape=(), dtype=float32...   \n",
       "4  ((tf.Tensor(0.5204592, shape=(), dtype=float32...   \n",
       "\n",
       "                                  negative_embedding  isGenuine       Pos  \\\n",
       "0  ((tf.Tensor(0.8645718, shape=(), dtype=float32...          0  0.992328   \n",
       "1  ((tf.Tensor(0.39470863, shape=(), dtype=float3...          0  0.992328   \n",
       "2  ((tf.Tensor(0.36604935, shape=(), dtype=float3...          0  0.992328   \n",
       "3  ((tf.Tensor(0.72039074, shape=(), dtype=float3...          0  0.992328   \n",
       "4  ((tf.Tensor(0.6860671, shape=(), dtype=float32...          0  0.992328   \n",
       "\n",
       "        Neg      Diff  \n",
       "0  0.970792  0.021536  \n",
       "1  0.990692  0.001636  \n",
       "2  0.978380  0.013948  \n",
       "3  0.972754  0.019574  \n",
       "4  0.970110  0.022218  "
      ]
     },
     "execution_count": 35,
     "metadata": {},
     "output_type": "execute_result"
    }
   ],
   "source": [
    "df[\"isGenuine\"] = df[\"isGenuine\"].map(lambda x: 1 if x else 0)\n",
    "df.head()"
   ]
  },
  {
   "cell_type": "code",
   "execution_count": 36,
   "metadata": {},
   "outputs": [
    {
     "name": "stderr",
     "output_type": "stream",
     "text": [
      "/opt/conda/envs/springboard/lib/python3.7/site-packages/ipykernel_launcher.py:2: SettingWithCopyWarning: \n",
      "A value is trying to be set on a copy of a slice from a DataFrame.\n",
      "Try using .loc[row_indexer,col_indexer] = value instead\n",
      "\n",
      "See the caveats in the documentation: https://pandas.pydata.org/pandas-docs/stable/user_guide/indexing.html#returning-a-view-versus-a-copy\n",
      "  \n"
     ]
    },
    {
     "data": {
      "text/html": [
       "<div>\n",
       "<style scoped>\n",
       "    .dataframe tbody tr th:only-of-type {\n",
       "        vertical-align: middle;\n",
       "    }\n",
       "\n",
       "    .dataframe tbody tr th {\n",
       "        vertical-align: top;\n",
       "    }\n",
       "\n",
       "    .dataframe thead th {\n",
       "        text-align: right;\n",
       "    }\n",
       "</style>\n",
       "<table border=\"1\" class=\"dataframe\">\n",
       "  <thead>\n",
       "    <tr style=\"text-align: right;\">\n",
       "      <th></th>\n",
       "      <th>Diff</th>\n",
       "      <th>isGenuine</th>\n",
       "    </tr>\n",
       "  </thead>\n",
       "  <tbody>\n",
       "    <tr>\n",
       "      <th>0</th>\n",
       "      <td>0.215364</td>\n",
       "      <td>0</td>\n",
       "    </tr>\n",
       "    <tr>\n",
       "      <th>1</th>\n",
       "      <td>0.016360</td>\n",
       "      <td>0</td>\n",
       "    </tr>\n",
       "    <tr>\n",
       "      <th>2</th>\n",
       "      <td>0.139477</td>\n",
       "      <td>0</td>\n",
       "    </tr>\n",
       "    <tr>\n",
       "      <th>3</th>\n",
       "      <td>0.195741</td>\n",
       "      <td>0</td>\n",
       "    </tr>\n",
       "    <tr>\n",
       "      <th>4</th>\n",
       "      <td>0.222183</td>\n",
       "      <td>0</td>\n",
       "    </tr>\n",
       "  </tbody>\n",
       "</table>\n",
       "</div>"
      ],
      "text/plain": [
       "       Diff  isGenuine\n",
       "0  0.215364          0\n",
       "1  0.016360          0\n",
       "2  0.139477          0\n",
       "3  0.195741          0\n",
       "4  0.222183          0"
      ]
     },
     "execution_count": 36,
     "metadata": {},
     "output_type": "execute_result"
    }
   ],
   "source": [
    "df2 = df[[\"Diff\",\"isGenuine\"]]\n",
    "df2[\"Diff\"] = df2[\"Diff\"]*10\n",
    "df2.head()"
   ]
  },
  {
   "cell_type": "code",
   "execution_count": 37,
   "metadata": {},
   "outputs": [],
   "source": [
    "df3_f = df2[(df2.isGenuine == 0)]  # & (df2.Diff < threshold)\n",
    "df3_g = df2[(df2.isGenuine == 1)]"
   ]
  },
  {
   "cell_type": "code",
   "execution_count": 38,
   "metadata": {},
   "outputs": [
    {
     "data": {
      "text/html": [
       "<div>\n",
       "<style scoped>\n",
       "    .dataframe tbody tr th:only-of-type {\n",
       "        vertical-align: middle;\n",
       "    }\n",
       "\n",
       "    .dataframe tbody tr th {\n",
       "        vertical-align: top;\n",
       "    }\n",
       "\n",
       "    .dataframe thead th {\n",
       "        text-align: right;\n",
       "    }\n",
       "</style>\n",
       "<table border=\"1\" class=\"dataframe\">\n",
       "  <thead>\n",
       "    <tr style=\"text-align: right;\">\n",
       "      <th></th>\n",
       "      <th>Diff</th>\n",
       "      <th>isGenuine</th>\n",
       "    </tr>\n",
       "  </thead>\n",
       "  <tbody>\n",
       "    <tr>\n",
       "      <th>12</th>\n",
       "      <td>0.006700</td>\n",
       "      <td>1</td>\n",
       "    </tr>\n",
       "    <tr>\n",
       "      <th>13</th>\n",
       "      <td>0.008011</td>\n",
       "      <td>1</td>\n",
       "    </tr>\n",
       "    <tr>\n",
       "      <th>14</th>\n",
       "      <td>0.003772</td>\n",
       "      <td>1</td>\n",
       "    </tr>\n",
       "    <tr>\n",
       "      <th>15</th>\n",
       "      <td>0.003446</td>\n",
       "      <td>1</td>\n",
       "    </tr>\n",
       "    <tr>\n",
       "      <th>16</th>\n",
       "      <td>0.027829</td>\n",
       "      <td>1</td>\n",
       "    </tr>\n",
       "  </tbody>\n",
       "</table>\n",
       "</div>"
      ],
      "text/plain": [
       "        Diff  isGenuine\n",
       "12  0.006700          1\n",
       "13  0.008011          1\n",
       "14  0.003772          1\n",
       "15  0.003446          1\n",
       "16  0.027829          1"
      ]
     },
     "execution_count": 38,
     "metadata": {},
     "output_type": "execute_result"
    }
   ],
   "source": [
    "df3_g.head()"
   ]
  },
  {
   "cell_type": "code",
   "execution_count": 39,
   "metadata": {},
   "outputs": [
    {
     "data": {
      "text/plain": [
       "(array([  7.,  22.,  86., 250., 790., 790., 250.,  86.,  22.,   7.]),\n",
       " array([-0.06793439, -0.05434752, -0.04076064, -0.02717376, -0.01358688,\n",
       "         0.        ,  0.01358688,  0.02717376,  0.04076064,  0.05434752,\n",
       "         0.06793439]),\n",
       " <a list of 10 Patch objects>)"
      ]
     },
     "execution_count": 39,
     "metadata": {},
     "output_type": "execute_result"
    },
    {
     "data": {
      "image/png": "[encoded data removed]",
      "text/plain": [
       "<Figure size 1440x216 with 2 Axes>"
      ]
     },
     "metadata": {
      "needs_background": "light"
     },
     "output_type": "display_data"
    }
   ],
   "source": [
    "threshold = 0.01\n",
    "\n",
    "df4_f = df3_f.copy(deep=True)\n",
    "df4_f[\"Diff\"] = df4_f[\"Diff\"].map(lambda x: x if  x < threshold else threshold)\n",
    "\n",
    "plt.figure(figsize=(20, 3))\n",
    "\n",
    "plt.subplot(131)\n",
    "plt.title('Forgery')\n",
    "plt.xlabel(\"Distance\")\n",
    "plt.ylabel(\"Total Count: \" + str(len(df4_f)) + \"# below threshold: \" + str(len(df3_f[df4_f.Diff < threshold ])))\n",
    "plt.hist(df4_f[\"Diff\"])\n",
    "\n",
    "# df3_g = df2[df2.isGenuine==1][\"Diff\"]*10  #*0.0001\n",
    "# df4_g = [(d if d < threshold else threshold) for d in df3_g]#0.0000006]\n",
    "\n",
    "plt.subplot(132)\n",
    "plt.title('Genuine')\n",
    "plt.xlabel(\"Distance\")\n",
    "plt.ylabel(\"Total Count: \" + str(len(df3_g)) + \"# above threshold: \" + str(len(df3_g[df3_g.Diff > threshold ])))\n",
    "plt.hist(df3_g[\"Diff\"])"
   ]
  },
  {
   "cell_type": "code",
   "execution_count": 40,
   "metadata": {},
   "outputs": [
    {
     "name": "stderr",
     "output_type": "stream",
     "text": [
      "/opt/conda/envs/springboard/lib/python3.7/site-packages/ipykernel_launcher.py:1: SettingWithCopyWarning: \n",
      "A value is trying to be set on a copy of a slice from a DataFrame.\n",
      "Try using .loc[row_indexer,col_indexer] = value instead\n",
      "\n",
      "See the caveats in the documentation: https://pandas.pydata.org/pandas-docs/stable/user_guide/indexing.html#returning-a-view-versus-a-copy\n",
      "  \"\"\"Entry point for launching an IPython kernel.\n"
     ]
    },
    {
     "data": {
      "text/html": [
       "<div>\n",
       "<style scoped>\n",
       "    .dataframe tbody tr th:only-of-type {\n",
       "        vertical-align: middle;\n",
       "    }\n",
       "\n",
       "    .dataframe tbody tr th {\n",
       "        vertical-align: top;\n",
       "    }\n",
       "\n",
       "    .dataframe thead th {\n",
       "        text-align: right;\n",
       "    }\n",
       "</style>\n",
       "<table border=\"1\" class=\"dataframe\">\n",
       "  <thead>\n",
       "    <tr style=\"text-align: right;\">\n",
       "      <th></th>\n",
       "      <th>Diff</th>\n",
       "      <th>isGenuine</th>\n",
       "      <th>Forgery</th>\n",
       "    </tr>\n",
       "  </thead>\n",
       "  <tbody>\n",
       "    <tr>\n",
       "      <th>Diff</th>\n",
       "      <td>1.000000</td>\n",
       "      <td>-0.534244</td>\n",
       "      <td>0.534244</td>\n",
       "    </tr>\n",
       "    <tr>\n",
       "      <th>isGenuine</th>\n",
       "      <td>-0.534244</td>\n",
       "      <td>1.000000</td>\n",
       "      <td>-1.000000</td>\n",
       "    </tr>\n",
       "    <tr>\n",
       "      <th>Forgery</th>\n",
       "      <td>0.534244</td>\n",
       "      <td>-1.000000</td>\n",
       "      <td>1.000000</td>\n",
       "    </tr>\n",
       "  </tbody>\n",
       "</table>\n",
       "</div>"
      ],
      "text/plain": [
       "               Diff  isGenuine   Forgery\n",
       "Diff       1.000000  -0.534244  0.534244\n",
       "isGenuine -0.534244   1.000000 -1.000000\n",
       "Forgery    0.534244  -1.000000  1.000000"
      ]
     },
     "execution_count": 40,
     "metadata": {},
     "output_type": "execute_result"
    }
   ],
   "source": [
    "df2[\"Forgery\"] =  [1 if d==0 else 0 for d in df2[\"isGenuine\"].values]\n",
    "df2.corr() "
   ]
  },
  {
   "cell_type": "code",
   "execution_count": null,
   "metadata": {},
   "outputs": [],
   "source": [
    "\n",
    "\n"
   ]
  },
  {
   "cell_type": "code",
   "execution_count": null,
   "metadata": {},
   "outputs": [],
   "source": [
    "threshold = 0.9925\n",
    "\n",
    "df4_f[\"ToCompare\"] = df[df.isGenuine==0][\"ToCompare\"]\n",
    "df4_f[\"ToCompare\"] = df4_f[\"ToCompare\"].map(lambda x: x if  x > threshold else threshold-0.01)"
   ]
  },
  {
   "cell_type": "code",
   "execution_count": null,
   "metadata": {},
   "outputs": [],
   "source": [
    "df3_g = df[(df.isGenuine == 1)]\n",
    "df4_g = df3_g.copy(deep=True)\n",
    "df4_g[\"Pos\"] = df3_g[\"Pos\"].map(lambda x: x if  x > threshold else (threshold-0.001))"
   ]
  },
  {
   "cell_type": "code",
   "execution_count": null,
   "metadata": {},
   "outputs": [],
   "source": [
    "plt.figure(figsize=(20, 3))\n",
    "\n",
    "plt.subplot(131)\n",
    "plt.title('Forgery')\n",
    "plt.xlabel(\"Distance\")\n",
    "plt.ylabel(\"Total Count: \" + str(len(df3_f)) + \"# below threshold: \" + str(len(df3_f[df4_f.ToCompare > threshold ])))\n",
    "plt.hist(df4_f[\"ToCompare\"])\n",
    "\n",
    "# df3_g = df2[df2.isGenuine==1][\"Diff\"]*10  #*0.0001\n",
    "# df4_g = [(d if d < threshold else threshold) for d in df3_g]#0.0000006]\n",
    "\n",
    "plt.subplot(132)\n",
    "plt.title('Genuine')\n",
    "plt.xlabel(\"Distance\")\n",
    "plt.ylabel(\"Total Count: \" + str(len(df3_g)) + \"# above threshold: \" + str(len(df3_g[df3_g.Pos < threshold ])))\n",
    "plt.hist(df4_g[\"Pos\"])"
   ]
  },
  {
   "cell_type": "code",
   "execution_count": null,
   "metadata": {},
   "outputs": [],
   "source": []
  }
 ],
 "metadata": {
  "kernelspec": {
   "display_name": "Python 3",
   "language": "python",
   "name": "python3"
  },
  "language_info": {
   "codemirror_mode": {
    "name": "ipython",
    "version": 3
   },
   "file_extension": ".py",
   "mimetype": "text/x-python",
   "name": "python",
   "nbconvert_exporter": "python",
   "pygments_lexer": "ipython3",
   "version": "3.7.6"
  }
 },
 "nbformat": 4,
 "nbformat_minor": 4
}
